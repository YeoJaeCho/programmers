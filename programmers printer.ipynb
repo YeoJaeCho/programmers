{
 "cells": [
  {
   "cell_type": "markdown",
   "id": "f3d2ab78",
   "metadata": {},
   "source": [
    "# 프린터"
   ]
  },
  {
   "cell_type": "markdown",
   "id": "559857e5",
   "metadata": {},
   "source": [
    "## 문제 설명\n",
    "일반적인 프린터는 인쇄 요청이 들어온 순서대로 인쇄합니다. 그렇기 때문에 중요한 문서가 나중에 인쇄될 수 있습니다. 이런 문제를 보완하기 위해 중요도가 높은 문서를 먼저 인쇄하는 프린터를 개발했습니다. 이 새롭게 개발한 프린터는 아래와 같은 방식으로 인쇄 작업을 수행합니다."
   ]
  },
  {
   "cell_type": "markdown",
   "id": "4970920c",
   "metadata": {},
   "source": [
    "1. 인쇄 대기목록의 가장 앞에 있는 문서(J)를 대기목록에서 꺼냅니다.\n",
    "2. 나머지 인쇄 대기목록에서 J보다 중요도가 높은 문서가 한 개라도 존재하면 J를 대기목록의 가장 마지막에 넣습니다.\n",
    "3. 그렇지 않으면 J를 인쇄합니다."
   ]
  },
  {
   "cell_type": "markdown",
   "id": "4ff1536d",
   "metadata": {},
   "source": [
    "예를 들어, 4개의 문서(A, B, C, D)가 순서대로 인쇄 대기목록에 있고 중요도가 2 1 3 2 라면 C D A B 순으로 인쇄하게 됩니다.\n",
    "\n",
    "내가 인쇄를 요청한 문서가 몇 번째로 인쇄되는지 알고 싶습니다. 위의 예에서 C는 1번째로, A는 3번째로 인쇄됩니다.\n",
    "\n",
    "현재 대기목록에 있는 문서의 중요도가 순서대로 담긴 배열 priorities와 내가 인쇄를 요청한 문서가 현재 대기목록의 어떤 위치에 있는지를 알려주는 location이 매개변수로 주어질 때, 내가 인쇄를 요청한 문서가 몇 번째로 인쇄되는지 return 하도록 solution 함수를 작성해주세요."
   ]
  },
  {
   "cell_type": "markdown",
   "id": "436e208a",
   "metadata": {},
   "source": [
    "## 제한 사항\n",
    "- 현재 대기목록에는 1개 이상 100개 이하의 문서가 있습니다.\n",
    "- 인쇄 작업의 중요도는 1~9로 표현하며 숫자가 클수록 중요하다는 뜻입니다.\n",
    "- location은 0 이상 (현재 대기목록에 있는 작업 수 - 1) 이하의 값을 가지며 대기목록의 가장 앞에 있으면 0, 두 번째에 있으면 1로 표현합니다."
   ]
  },
  {
   "cell_type": "code",
   "execution_count": 77,
   "id": "cfae72de",
   "metadata": {},
   "outputs": [],
   "source": [
    "from collections import deque"
   ]
  },
  {
   "cell_type": "code",
   "execution_count": 78,
   "id": "898976fe",
   "metadata": {},
   "outputs": [],
   "source": [
    "def solution(priorities, location):\n",
    "    result = deque(priorities)\n",
    "    answer = 0\n",
    "    \n",
    "    while result:\n",
    "        if result[0] == max(result):  # result의 첫번째 원소가 가장 높은 우선순위를 가질 경우\n",
    "            result.popleft()\n",
    "            answer += 1  # 첫번째 원소 출력\n",
    "            if location == 0:  # 첫번째 원소의 출력 순서를 알고 싶은 경우\n",
    "                break\n",
    "            else:  # 첫번째가 아닌 원소의 출력 순서를 알고 싶은 경우 \n",
    "                location -= 1  # 이미 첫 원소가 출력되었으므로 위치가 하나씩 앞당겨짐\n",
    "        else:  # result의 첫번째 원소가 가장 높은 우선순위를 가지지 않는 경우\n",
    "            first = result.popleft()  # 첫번째 원소를 가장 뒤로 보냄\n",
    "            result.append(first)\n",
    "            if location == 0:  # 첫번째 원소의 출력 순서를 알고 싶은 경우\n",
    "                location = len(result) - 1  # 맨 뒤로 보내짐\n",
    "            else:  # 첫번째가 아닌 원소의 출력 순서를 알고 싶은 경우\n",
    "                location -= 1  # 위치가 한 칸 앞당겨짐\n",
    "    \n",
    "    return answer"
   ]
  },
  {
   "cell_type": "code",
   "execution_count": 79,
   "id": "2713966a",
   "metadata": {},
   "outputs": [],
   "source": [
    "priorities = [2, 1, 3, 2]\n",
    "location = 2"
   ]
  },
  {
   "cell_type": "code",
   "execution_count": 80,
   "id": "4dd763b2",
   "metadata": {
    "scrolled": true
   },
   "outputs": [
    {
     "data": {
      "text/plain": [
       "1"
      ]
     },
     "execution_count": 80,
     "metadata": {},
     "output_type": "execute_result"
    }
   ],
   "source": [
    "solution(priorities, location)"
   ]
  },
  {
   "cell_type": "code",
   "execution_count": 81,
   "id": "ee0afe74",
   "metadata": {},
   "outputs": [],
   "source": [
    "priorities = [1, 1, 9, 1, 1, 1]\n",
    "location = 0"
   ]
  },
  {
   "cell_type": "code",
   "execution_count": 82,
   "id": "098b3697",
   "metadata": {},
   "outputs": [
    {
     "data": {
      "text/plain": [
       "5"
      ]
     },
     "execution_count": 82,
     "metadata": {},
     "output_type": "execute_result"
    }
   ],
   "source": [
    "solution(priorities, location)"
   ]
  }
 ],
 "metadata": {
  "kernelspec": {
   "display_name": "Python 3 (ipykernel)",
   "language": "python",
   "name": "python3"
  },
  "language_info": {
   "codemirror_mode": {
    "name": "ipython",
    "version": 3
   },
   "file_extension": ".py",
   "mimetype": "text/x-python",
   "name": "python",
   "nbconvert_exporter": "python",
   "pygments_lexer": "ipython3",
   "version": "3.9.12"
  }
 },
 "nbformat": 4,
 "nbformat_minor": 5
}
